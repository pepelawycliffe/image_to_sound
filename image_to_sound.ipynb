{
 "cells": [
  {
   "cell_type": "code",
   "execution_count": 6,
   "metadata": {},
   "outputs": [
    {
     "name": "stdout",
     "output_type": "stream",
     "text": [
      "The bug thrown while excuting the code\n",
      " tesseract is not installed or it's not in your PATH. See README file for more information.\n",
      "image.jpg\n"
     ]
    }
   ],
   "source": [
    "from PIL import Image\n",
    "from gtts import gTTS\n",
    "from pytesseract import image_to_string\n",
    "\n",
    "\n",
    "def image_to_sound(path_to_image):\n",
    "    \"\"\"\n",
    "    Function for converting an  image to sound\n",
    "    \"\"\"\n",
    "    try:\n",
    "        loaded_image = Image.open(path_to_image)\n",
    "        decoded_text = image_to_string(loaded_image)\n",
    "        cleaned_text = \" \".join(decoded_text.split(\"\\n\"))\n",
    "        print(cleaned_text)\n",
    "        sound = gTTS(cleaned_text, lang=\"en\")\n",
    "        sound.save(\"sound.mp3\")\n",
    "        return True\n",
    "    except Exception as bug:\n",
    "        print(\"The bug thrown while excuting the code\\n\", bug)\n",
    "        return\n",
    "\n",
    "\n",
    "if __name__ == \"__main__\":\n",
    "    image_to_sound(\"image.jpg\")\n",
    "    input()"
   ]
  },
  {
   "cell_type": "code",
   "execution_count": null,
   "metadata": {},
   "outputs": [],
   "source": []
  }
 ],
 "metadata": {
  "kernelspec": {
   "display_name": "Python 3",
   "language": "python",
   "name": "python3"
  },
  "language_info": {
   "codemirror_mode": {
    "name": "ipython",
    "version": 3
   },
   "file_extension": ".py",
   "mimetype": "text/x-python",
   "name": "python",
   "nbconvert_exporter": "python",
   "pygments_lexer": "ipython3",
   "version": "3.8.3"
  }
 },
 "nbformat": 4,
 "nbformat_minor": 4
}
